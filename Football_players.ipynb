{
 "cells": [
  {
   "cell_type": "code",
   "execution_count": 1,
   "metadata": {},
   "outputs": [],
   "source": [
    "from pandas import Series,DataFrame\n",
    "import numpy as np\n",
    "import pandas as pd\n",
    "import matplotlib.pyplot as plt\n",
    "%matplotlib inline\n",
    "import seaborn as sns\n",
    "sns.set_style(\"whitegrid\")\n",
    "import statistics\n",
    "from scipy import stats"
   ]
  },
  {
   "cell_type": "code",
   "execution_count": 3,
   "metadata": {},
   "outputs": [],
   "source": [
    "#aim here is to trace the players who are in high demand"
   ]
  },
  {
   "cell_type": "code",
   "execution_count": 68,
   "metadata": {},
   "outputs": [],
   "source": [
    "df=pd.read_csv(\"english_premier_league.csv\")"
   ]
  },
  {
   "cell_type": "code",
   "execution_count": 69,
   "metadata": {},
   "outputs": [
    {
     "data": {
      "text/html": [
       "<div>\n",
       "<style scoped>\n",
       "    .dataframe tbody tr th:only-of-type {\n",
       "        vertical-align: middle;\n",
       "    }\n",
       "\n",
       "    .dataframe tbody tr th {\n",
       "        vertical-align: top;\n",
       "    }\n",
       "\n",
       "    .dataframe thead th {\n",
       "        text-align: right;\n",
       "    }\n",
       "</style>\n",
       "<table border=\"1\" class=\"dataframe\">\n",
       "  <thead>\n",
       "    <tr style=\"text-align: right;\">\n",
       "      <th></th>\n",
       "      <th>club_name</th>\n",
       "      <th>player_name</th>\n",
       "      <th>age</th>\n",
       "      <th>position</th>\n",
       "      <th>club_involved_name</th>\n",
       "      <th>fee</th>\n",
       "      <th>transfer_movement</th>\n",
       "      <th>fee_cleaned</th>\n",
       "      <th>league_name</th>\n",
       "      <th>year</th>\n",
       "      <th>season</th>\n",
       "    </tr>\n",
       "  </thead>\n",
       "  <tbody>\n",
       "    <tr>\n",
       "      <th>0</th>\n",
       "      <td>Manchester City</td>\n",
       "      <td>Rodri</td>\n",
       "      <td>23</td>\n",
       "      <td>Defensive Midfield</td>\n",
       "      <td>Atlético Madrid</td>\n",
       "      <td>£63.00m</td>\n",
       "      <td>in</td>\n",
       "      <td>63.0</td>\n",
       "      <td>Premier League</td>\n",
       "      <td>2019</td>\n",
       "      <td>2019/2020</td>\n",
       "    </tr>\n",
       "    <tr>\n",
       "      <th>1</th>\n",
       "      <td>Manchester City</td>\n",
       "      <td>João Cancelo</td>\n",
       "      <td>25</td>\n",
       "      <td>Right-Back</td>\n",
       "      <td>Juventus</td>\n",
       "      <td>£58.50m</td>\n",
       "      <td>in</td>\n",
       "      <td>58.5</td>\n",
       "      <td>Premier League</td>\n",
       "      <td>2019</td>\n",
       "      <td>2019/2020</td>\n",
       "    </tr>\n",
       "    <tr>\n",
       "      <th>2</th>\n",
       "      <td>Manchester City</td>\n",
       "      <td>Pedro Porro</td>\n",
       "      <td>19</td>\n",
       "      <td>Right-Back</td>\n",
       "      <td>Girona</td>\n",
       "      <td>£10.80m</td>\n",
       "      <td>in</td>\n",
       "      <td>10.8</td>\n",
       "      <td>Premier League</td>\n",
       "      <td>2019</td>\n",
       "      <td>2019/2020</td>\n",
       "    </tr>\n",
       "    <tr>\n",
       "      <th>3</th>\n",
       "      <td>Manchester City</td>\n",
       "      <td>Angeliño</td>\n",
       "      <td>22</td>\n",
       "      <td>Left-Back</td>\n",
       "      <td>PSV Eindhoven</td>\n",
       "      <td>£10.80m</td>\n",
       "      <td>in</td>\n",
       "      <td>10.8</td>\n",
       "      <td>Premier League</td>\n",
       "      <td>2019</td>\n",
       "      <td>2019/2020</td>\n",
       "    </tr>\n",
       "    <tr>\n",
       "      <th>4</th>\n",
       "      <td>Manchester City</td>\n",
       "      <td>Zack Steffen</td>\n",
       "      <td>24</td>\n",
       "      <td>Goalkeeper</td>\n",
       "      <td>Columbus Crew</td>\n",
       "      <td>£7.20m</td>\n",
       "      <td>in</td>\n",
       "      <td>7.2</td>\n",
       "      <td>Premier League</td>\n",
       "      <td>2019</td>\n",
       "      <td>2019/2020</td>\n",
       "    </tr>\n",
       "  </tbody>\n",
       "</table>\n",
       "</div>"
      ],
      "text/plain": [
       "         club_name   player_name  age            position club_involved_name  \\\n",
       "0  Manchester City         Rodri   23  Defensive Midfield    Atlético Madrid   \n",
       "1  Manchester City  João Cancelo   25          Right-Back           Juventus   \n",
       "2  Manchester City   Pedro Porro   19          Right-Back             Girona   \n",
       "3  Manchester City      Angeliño   22           Left-Back      PSV Eindhoven   \n",
       "4  Manchester City  Zack Steffen   24          Goalkeeper      Columbus Crew   \n",
       "\n",
       "       fee transfer_movement  fee_cleaned     league_name  year     season  \n",
       "0  £63.00m                in         63.0  Premier League  2019  2019/2020  \n",
       "1  £58.50m                in         58.5  Premier League  2019  2019/2020  \n",
       "2  £10.80m                in         10.8  Premier League  2019  2019/2020  \n",
       "3  £10.80m                in         10.8  Premier League  2019  2019/2020  \n",
       "4   £7.20m                in          7.2  Premier League  2019  2019/2020  "
      ]
     },
     "execution_count": 69,
     "metadata": {},
     "output_type": "execute_result"
    }
   ],
   "source": [
    "df.head()"
   ]
  },
  {
   "cell_type": "code",
   "execution_count": 70,
   "metadata": {},
   "outputs": [
    {
     "data": {
      "text/html": [
       "<div>\n",
       "<style scoped>\n",
       "    .dataframe tbody tr th:only-of-type {\n",
       "        vertical-align: middle;\n",
       "    }\n",
       "\n",
       "    .dataframe tbody tr th {\n",
       "        vertical-align: top;\n",
       "    }\n",
       "\n",
       "    .dataframe thead th {\n",
       "        text-align: right;\n",
       "    }\n",
       "</style>\n",
       "<table border=\"1\" class=\"dataframe\">\n",
       "  <thead>\n",
       "    <tr style=\"text-align: right;\">\n",
       "      <th></th>\n",
       "      <th>age</th>\n",
       "      <th>fee_cleaned</th>\n",
       "      <th>year</th>\n",
       "    </tr>\n",
       "  </thead>\n",
       "  <tbody>\n",
       "    <tr>\n",
       "      <th>count</th>\n",
       "      <td>563.000000</td>\n",
       "      <td>479.000000</td>\n",
       "      <td>563.0</td>\n",
       "    </tr>\n",
       "    <tr>\n",
       "      <th>mean</th>\n",
       "      <td>25.042629</td>\n",
       "      <td>4.465180</td>\n",
       "      <td>2019.0</td>\n",
       "    </tr>\n",
       "    <tr>\n",
       "      <th>std</th>\n",
       "      <td>4.413054</td>\n",
       "      <td>11.542427</td>\n",
       "      <td>0.0</td>\n",
       "    </tr>\n",
       "    <tr>\n",
       "      <th>min</th>\n",
       "      <td>17.000000</td>\n",
       "      <td>0.000000</td>\n",
       "      <td>2019.0</td>\n",
       "    </tr>\n",
       "    <tr>\n",
       "      <th>25%</th>\n",
       "      <td>22.000000</td>\n",
       "      <td>0.000000</td>\n",
       "      <td>2019.0</td>\n",
       "    </tr>\n",
       "    <tr>\n",
       "      <th>50%</th>\n",
       "      <td>24.000000</td>\n",
       "      <td>0.000000</td>\n",
       "      <td>2019.0</td>\n",
       "    </tr>\n",
       "    <tr>\n",
       "      <th>75%</th>\n",
       "      <td>28.000000</td>\n",
       "      <td>2.455000</td>\n",
       "      <td>2019.0</td>\n",
       "    </tr>\n",
       "    <tr>\n",
       "      <th>max</th>\n",
       "      <td>40.000000</td>\n",
       "      <td>90.000000</td>\n",
       "      <td>2019.0</td>\n",
       "    </tr>\n",
       "  </tbody>\n",
       "</table>\n",
       "</div>"
      ],
      "text/plain": [
       "              age  fee_cleaned    year\n",
       "count  563.000000   479.000000   563.0\n",
       "mean    25.042629     4.465180  2019.0\n",
       "std      4.413054    11.542427     0.0\n",
       "min     17.000000     0.000000  2019.0\n",
       "25%     22.000000     0.000000  2019.0\n",
       "50%     24.000000     0.000000  2019.0\n",
       "75%     28.000000     2.455000  2019.0\n",
       "max     40.000000    90.000000  2019.0"
      ]
     },
     "execution_count": 70,
     "metadata": {},
     "output_type": "execute_result"
    }
   ],
   "source": [
    "df.describe()"
   ]
  },
  {
   "cell_type": "code",
   "execution_count": 71,
   "metadata": {},
   "outputs": [],
   "source": [
    "col=df.columns"
   ]
  },
  {
   "cell_type": "code",
   "execution_count": 72,
   "metadata": {},
   "outputs": [],
   "source": [
    "#finding_missing_values"
   ]
  },
  {
   "cell_type": "code",
   "execution_count": 73,
   "metadata": {},
   "outputs": [
    {
     "data": {
      "text/html": [
       "<div>\n",
       "<style scoped>\n",
       "    .dataframe tbody tr th:only-of-type {\n",
       "        vertical-align: middle;\n",
       "    }\n",
       "\n",
       "    .dataframe tbody tr th {\n",
       "        vertical-align: top;\n",
       "    }\n",
       "\n",
       "    .dataframe thead th {\n",
       "        text-align: right;\n",
       "    }\n",
       "</style>\n",
       "<table border=\"1\" class=\"dataframe\">\n",
       "  <thead>\n",
       "    <tr style=\"text-align: right;\">\n",
       "      <th></th>\n",
       "      <th>club_name</th>\n",
       "      <th>player_name</th>\n",
       "      <th>age</th>\n",
       "      <th>position</th>\n",
       "      <th>club_involved_name</th>\n",
       "      <th>fee</th>\n",
       "      <th>transfer_movement</th>\n",
       "      <th>fee_cleaned</th>\n",
       "      <th>league_name</th>\n",
       "      <th>year</th>\n",
       "      <th>season</th>\n",
       "    </tr>\n",
       "  </thead>\n",
       "  <tbody>\n",
       "    <tr>\n",
       "      <th>0</th>\n",
       "      <td>False</td>\n",
       "      <td>False</td>\n",
       "      <td>False</td>\n",
       "      <td>False</td>\n",
       "      <td>False</td>\n",
       "      <td>False</td>\n",
       "      <td>False</td>\n",
       "      <td>False</td>\n",
       "      <td>False</td>\n",
       "      <td>False</td>\n",
       "      <td>False</td>\n",
       "    </tr>\n",
       "    <tr>\n",
       "      <th>1</th>\n",
       "      <td>False</td>\n",
       "      <td>False</td>\n",
       "      <td>False</td>\n",
       "      <td>False</td>\n",
       "      <td>False</td>\n",
       "      <td>False</td>\n",
       "      <td>False</td>\n",
       "      <td>False</td>\n",
       "      <td>False</td>\n",
       "      <td>False</td>\n",
       "      <td>False</td>\n",
       "    </tr>\n",
       "  </tbody>\n",
       "</table>\n",
       "</div>"
      ],
      "text/plain": [
       "   club_name  player_name    age  position  club_involved_name    fee  \\\n",
       "0      False        False  False     False               False  False   \n",
       "1      False        False  False     False               False  False   \n",
       "\n",
       "   transfer_movement  fee_cleaned  league_name   year  season  \n",
       "0              False        False        False  False   False  \n",
       "1              False        False        False  False   False  "
      ]
     },
     "execution_count": 73,
     "metadata": {},
     "output_type": "execute_result"
    }
   ],
   "source": [
    "df.isna()[0:2]"
   ]
  },
  {
   "cell_type": "code",
   "execution_count": 74,
   "metadata": {},
   "outputs": [],
   "source": [
    "df_na=df.isna()\n",
    "n2=[]\n",
    "for i in np.arange(len(col)):\n",
    "    c=col[i]\n",
    "    s1=0\n",
    "    for j in np.arange(len(df_na[c])):\n",
    "        n1=int(df_na[c][j])\n",
    "        s1=s1+n1\n",
    "    n2=np.append(n2,s1)   "
   ]
  },
  {
   "cell_type": "code",
   "execution_count": 75,
   "metadata": {},
   "outputs": [
    {
     "data": {
      "text/html": [
       "<div>\n",
       "<style scoped>\n",
       "    .dataframe tbody tr th:only-of-type {\n",
       "        vertical-align: middle;\n",
       "    }\n",
       "\n",
       "    .dataframe tbody tr th {\n",
       "        vertical-align: top;\n",
       "    }\n",
       "\n",
       "    .dataframe thead th {\n",
       "        text-align: right;\n",
       "    }\n",
       "</style>\n",
       "<table border=\"1\" class=\"dataframe\">\n",
       "  <thead>\n",
       "    <tr style=\"text-align: right;\">\n",
       "      <th></th>\n",
       "      <th>0</th>\n",
       "      <th>1</th>\n",
       "    </tr>\n",
       "  </thead>\n",
       "  <tbody>\n",
       "    <tr>\n",
       "      <th>0</th>\n",
       "      <td>club_name</td>\n",
       "      <td>0</td>\n",
       "    </tr>\n",
       "    <tr>\n",
       "      <th>1</th>\n",
       "      <td>player_name</td>\n",
       "      <td>0</td>\n",
       "    </tr>\n",
       "    <tr>\n",
       "      <th>2</th>\n",
       "      <td>age</td>\n",
       "      <td>0</td>\n",
       "    </tr>\n",
       "    <tr>\n",
       "      <th>3</th>\n",
       "      <td>position</td>\n",
       "      <td>0</td>\n",
       "    </tr>\n",
       "    <tr>\n",
       "      <th>4</th>\n",
       "      <td>club_involved_name</td>\n",
       "      <td>0</td>\n",
       "    </tr>\n",
       "    <tr>\n",
       "      <th>5</th>\n",
       "      <td>fee</td>\n",
       "      <td>0</td>\n",
       "    </tr>\n",
       "    <tr>\n",
       "      <th>6</th>\n",
       "      <td>transfer_movement</td>\n",
       "      <td>0</td>\n",
       "    </tr>\n",
       "    <tr>\n",
       "      <th>7</th>\n",
       "      <td>fee_cleaned</td>\n",
       "      <td>84</td>\n",
       "    </tr>\n",
       "    <tr>\n",
       "      <th>8</th>\n",
       "      <td>league_name</td>\n",
       "      <td>0</td>\n",
       "    </tr>\n",
       "    <tr>\n",
       "      <th>9</th>\n",
       "      <td>year</td>\n",
       "      <td>0</td>\n",
       "    </tr>\n",
       "    <tr>\n",
       "      <th>10</th>\n",
       "      <td>season</td>\n",
       "      <td>0</td>\n",
       "    </tr>\n",
       "  </tbody>\n",
       "</table>\n",
       "</div>"
      ],
      "text/plain": [
       "                     0   1\n",
       "0            club_name   0\n",
       "1          player_name   0\n",
       "2                  age   0\n",
       "3             position   0\n",
       "4   club_involved_name   0\n",
       "5                  fee   0\n",
       "6    transfer_movement   0\n",
       "7          fee_cleaned  84\n",
       "8          league_name   0\n",
       "9                 year   0\n",
       "10              season   0"
      ]
     },
     "execution_count": 75,
     "metadata": {},
     "output_type": "execute_result"
    }
   ],
   "source": [
    "DataFrame([col,n2]).T          #one missing section found"
   ]
  },
  {
   "cell_type": "code",
   "execution_count": 76,
   "metadata": {},
   "outputs": [
    {
     "data": {
      "text/plain": [
       "(array([ 27,  29,  30,  31,  43,  60,  61,  95,  96,  97, 118, 119, 142,\n",
       "        143, 144, 145, 162, 164, 165, 173, 175, 189, 191, 192, 209, 227,\n",
       "        228, 230, 231, 245, 252, 256, 264, 265, 278, 279, 280, 281, 288,\n",
       "        289, 290, 312, 318, 319, 326, 327, 338, 339, 347, 372, 383, 389,\n",
       "        390, 391, 392, 393, 415, 416, 445, 446, 447, 466, 468, 480, 481,\n",
       "        482, 483, 484, 502, 503, 504, 512, 513, 514, 516, 517, 518, 522,\n",
       "        546, 547, 548, 549, 551, 554], dtype=int64),)"
      ]
     },
     "execution_count": 76,
     "metadata": {},
     "output_type": "execute_result"
    }
   ],
   "source": [
    "f1=np.where(df[\"fee_cleaned\"].isna()==True)\n",
    "f1"
   ]
  },
  {
   "cell_type": "code",
   "execution_count": 77,
   "metadata": {},
   "outputs": [],
   "source": [
    "s1=0\n",
    "f2=(np.where(df[\"fee_cleaned\"].isna()==False))[0]\n",
    "for i in f2:\n",
    "    s1=s1+(df[\"fee_cleaned\"][i])\n",
    "m=s1/len(f2)"
   ]
  },
  {
   "cell_type": "code",
   "execution_count": 78,
   "metadata": {},
   "outputs": [],
   "source": [
    "df_t1=DataFrame(df[\"fee_cleaned\"])\n",
    "df_t1=df_t1.fillna(value=m)"
   ]
  },
  {
   "cell_type": "code",
   "execution_count": 79,
   "metadata": {},
   "outputs": [],
   "source": [
    "df[\"fee_cleaned\"]=df_t1.values"
   ]
  },
  {
   "cell_type": "code",
   "execution_count": 80,
   "metadata": {},
   "outputs": [
    {
     "name": "stderr",
     "output_type": "stream",
     "text": [
      "c:\\users\\dell\\appdata\\local\\programs\\python\\python37\\lib\\site-packages\\ipykernel_launcher.py:3: SettingWithCopyWarning: \n",
      "A value is trying to be set on a copy of a slice from a DataFrame\n",
      "\n",
      "See the caveats in the documentation: https://pandas.pydata.org/pandas-docs/stable/user_guide/indexing.html#returning-a-view-versus-a-copy\n",
      "  This is separate from the ipykernel package so we can avoid doing imports until\n"
     ]
    }
   ],
   "source": [
    "for i in np.arange(len(df[\"fee\"])):\n",
    "    if df[\"fee\"][i][0:1]!=\"£\":\n",
    "        df[\"fee\"][i]=0"
   ]
  },
  {
   "cell_type": "code",
   "execution_count": 15,
   "metadata": {},
   "outputs": [],
   "source": [
    "#EDA(visualization and discripitve statistics)"
   ]
  },
  {
   "cell_type": "code",
   "execution_count": 16,
   "metadata": {},
   "outputs": [
    {
     "data": {
      "text/html": [
       "<div>\n",
       "<style scoped>\n",
       "    .dataframe tbody tr th:only-of-type {\n",
       "        vertical-align: middle;\n",
       "    }\n",
       "\n",
       "    .dataframe tbody tr th {\n",
       "        vertical-align: top;\n",
       "    }\n",
       "\n",
       "    .dataframe thead th {\n",
       "        text-align: right;\n",
       "    }\n",
       "</style>\n",
       "<table border=\"1\" class=\"dataframe\">\n",
       "  <thead>\n",
       "    <tr style=\"text-align: right;\">\n",
       "      <th></th>\n",
       "      <th>club_name</th>\n",
       "      <th>player_name</th>\n",
       "      <th>age</th>\n",
       "      <th>position</th>\n",
       "      <th>club_involved_name</th>\n",
       "      <th>fee</th>\n",
       "      <th>transfer_movement</th>\n",
       "      <th>fee_cleaned</th>\n",
       "      <th>league_name</th>\n",
       "      <th>year</th>\n",
       "      <th>season</th>\n",
       "    </tr>\n",
       "  </thead>\n",
       "  <tbody>\n",
       "    <tr>\n",
       "      <th>0</th>\n",
       "      <td>Manchester City</td>\n",
       "      <td>Rodri</td>\n",
       "      <td>23</td>\n",
       "      <td>Defensive Midfield</td>\n",
       "      <td>Atlético Madrid</td>\n",
       "      <td>£63.00m</td>\n",
       "      <td>in</td>\n",
       "      <td>63.0</td>\n",
       "      <td>Premier League</td>\n",
       "      <td>2019</td>\n",
       "      <td>2019/2020</td>\n",
       "    </tr>\n",
       "    <tr>\n",
       "      <th>1</th>\n",
       "      <td>Manchester City</td>\n",
       "      <td>João Cancelo</td>\n",
       "      <td>25</td>\n",
       "      <td>Right-Back</td>\n",
       "      <td>Juventus</td>\n",
       "      <td>£58.50m</td>\n",
       "      <td>in</td>\n",
       "      <td>58.5</td>\n",
       "      <td>Premier League</td>\n",
       "      <td>2019</td>\n",
       "      <td>2019/2020</td>\n",
       "    </tr>\n",
       "  </tbody>\n",
       "</table>\n",
       "</div>"
      ],
      "text/plain": [
       "         club_name   player_name  age            position club_involved_name  \\\n",
       "0  Manchester City         Rodri   23  Defensive Midfield    Atlético Madrid   \n",
       "1  Manchester City  João Cancelo   25          Right-Back           Juventus   \n",
       "\n",
       "       fee transfer_movement  fee_cleaned     league_name  year     season  \n",
       "0  £63.00m                in         63.0  Premier League  2019  2019/2020  \n",
       "1  £58.50m                in         58.5  Premier League  2019  2019/2020  "
      ]
     },
     "execution_count": 16,
     "metadata": {},
     "output_type": "execute_result"
    }
   ],
   "source": [
    "df.head(2)"
   ]
  },
  {
   "cell_type": "code",
   "execution_count": 17,
   "metadata": {},
   "outputs": [],
   "source": [
    "dfc=(DataFrame(pd.get_dummies(df[\"club_name\"])))\n",
    "clb=DataFrame(np.sum(dfc),columns=[\"team\"])"
   ]
  },
  {
   "cell_type": "code",
   "execution_count": 18,
   "metadata": {},
   "outputs": [
    {
     "data": {
      "text/plain": [
       "count    20.000000\n",
       "mean     28.150000\n",
       "std       8.554931\n",
       "min      15.000000\n",
       "25%      20.500000\n",
       "50%      29.000000\n",
       "75%      35.500000\n",
       "max      42.000000\n",
       "Name: team, dtype: float64"
      ]
     },
     "execution_count": 18,
     "metadata": {},
     "output_type": "execute_result"
    }
   ],
   "source": [
    "(clb[\"team\"]).describe()"
   ]
  },
  {
   "cell_type": "code",
   "execution_count": 19,
   "metadata": {},
   "outputs": [
    {
     "data": {
      "text/plain": [
       "Text(0, 0.5, 'frequency')"
      ]
     },
     "execution_count": 19,
     "metadata": {},
     "output_type": "execute_result"
    },
    {
     "data": {
      "image/png": "[encoded data removed]",
      "text/plain": [
       "<Figure size 1440x360 with 1 Axes>"
      ]
     },
     "metadata": {
      "needs_background": "light"
     },
     "output_type": "display_data"
    }
   ],
   "source": [
    "clb.plot(kind=\"bar\",figsize=(20,5),color=\"red\")\n",
    "plt.title(\"Distribution of player in various teams\",fontsize=20)\n",
    "plt.xlabel(\"teams\",fontsize=20)\n",
    "plt.ylabel(\"frequency\",fontsize=20)"
   ]
  },
  {
   "cell_type": "code",
   "execution_count": 20,
   "metadata": {},
   "outputs": [
    {
     "data": {
      "text/plain": [
       "count    563.000000\n",
       "mean      25.042629\n",
       "std        4.413054\n",
       "min       17.000000\n",
       "25%       22.000000\n",
       "50%       24.000000\n",
       "75%       28.000000\n",
       "max       40.000000\n",
       "Name: age, dtype: float64"
      ]
     },
     "execution_count": 20,
     "metadata": {},
     "output_type": "execute_result"
    }
   ],
   "source": [
    "df[\"age\"].describe()"
   ]
  },
  {
   "cell_type": "code",
   "execution_count": 21,
   "metadata": {},
   "outputs": [
    {
     "data": {
      "text/plain": [
       "Text(0, 0.5, 'Density')"
      ]
     },
     "execution_count": 21,
     "metadata": {},
     "output_type": "execute_result"
    },
    {
     "data": {
      "image/png": "[encoded data removed]",
      "text/plain": [
       "<Figure size 720x360 with 1 Axes>"
      ]
     },
     "metadata": {
      "needs_background": "light"
     },
     "output_type": "display_data"
    }
   ],
   "source": [
    "df[\"age\"].plot(kind=\"kde\",color=\"green\",figsize=(10,5),linewidth=3,linestyle=\"--\")\n",
    "plt.title(\"Age of players\",fontsize=20)\n",
    "plt.xlabel(\"Age\",fontsize=20)\n",
    "plt.ylabel(\"Density\",fontsize=20)"
   ]
  },
  {
   "cell_type": "code",
   "execution_count": 22,
   "metadata": {},
   "outputs": [
    {
     "data": {
      "text/html": [
       "<div>\n",
       "<style scoped>\n",
       "    .dataframe tbody tr th:only-of-type {\n",
       "        vertical-align: middle;\n",
       "    }\n",
       "\n",
       "    .dataframe tbody tr th {\n",
       "        vertical-align: top;\n",
       "    }\n",
       "\n",
       "    .dataframe thead th {\n",
       "        text-align: right;\n",
       "    }\n",
       "</style>\n",
       "<table border=\"1\" class=\"dataframe\">\n",
       "  <thead>\n",
       "    <tr style=\"text-align: right;\">\n",
       "      <th></th>\n",
       "      <th>position</th>\n",
       "    </tr>\n",
       "  </thead>\n",
       "  <tbody>\n",
       "    <tr>\n",
       "      <th>Attacking Midfield</th>\n",
       "      <td>21</td>\n",
       "    </tr>\n",
       "    <tr>\n",
       "      <th>Central Midfield</th>\n",
       "      <td>87</td>\n",
       "    </tr>\n",
       "    <tr>\n",
       "      <th>Centre-Back</th>\n",
       "      <td>81</td>\n",
       "    </tr>\n",
       "    <tr>\n",
       "      <th>Centre-Forward</th>\n",
       "      <td>106</td>\n",
       "    </tr>\n",
       "    <tr>\n",
       "      <th>Defensive Midfield</th>\n",
       "      <td>25</td>\n",
       "    </tr>\n",
       "    <tr>\n",
       "      <th>Goalkeeper</th>\n",
       "      <td>59</td>\n",
       "    </tr>\n",
       "    <tr>\n",
       "      <th>Left Midfield</th>\n",
       "      <td>9</td>\n",
       "    </tr>\n",
       "    <tr>\n",
       "      <th>Left Winger</th>\n",
       "      <td>47</td>\n",
       "    </tr>\n",
       "    <tr>\n",
       "      <th>Left-Back</th>\n",
       "      <td>31</td>\n",
       "    </tr>\n",
       "    <tr>\n",
       "      <th>Midfielder</th>\n",
       "      <td>1</td>\n",
       "    </tr>\n",
       "    <tr>\n",
       "      <th>Right Midfield</th>\n",
       "      <td>3</td>\n",
       "    </tr>\n",
       "    <tr>\n",
       "      <th>Right Winger</th>\n",
       "      <td>45</td>\n",
       "    </tr>\n",
       "    <tr>\n",
       "      <th>Right-Back</th>\n",
       "      <td>44</td>\n",
       "    </tr>\n",
       "    <tr>\n",
       "      <th>Second Striker</th>\n",
       "      <td>4</td>\n",
       "    </tr>\n",
       "  </tbody>\n",
       "</table>\n",
       "</div>"
      ],
      "text/plain": [
       "                    position\n",
       "Attacking Midfield        21\n",
       "Central Midfield          87\n",
       "Centre-Back               81\n",
       "Centre-Forward           106\n",
       "Defensive Midfield        25\n",
       "Goalkeeper                59\n",
       "Left Midfield              9\n",
       "Left Winger               47\n",
       "Left-Back                 31\n",
       "Midfielder                 1\n",
       "Right Midfield             3\n",
       "Right Winger              45\n",
       "Right-Back                44\n",
       "Second Striker             4"
      ]
     },
     "execution_count": 22,
     "metadata": {},
     "output_type": "execute_result"
    }
   ],
   "source": [
    "dfp=(DataFrame(pd.get_dummies(df[\"position\"])))\n",
    "pos=DataFrame(np.sum(dfp),columns=[\"position\"])\n",
    "pos"
   ]
  },
  {
   "cell_type": "code",
   "execution_count": 23,
   "metadata": {},
   "outputs": [
    {
     "data": {
      "text/html": [
       "<div>\n",
       "<style scoped>\n",
       "    .dataframe tbody tr th:only-of-type {\n",
       "        vertical-align: middle;\n",
       "    }\n",
       "\n",
       "    .dataframe tbody tr th {\n",
       "        vertical-align: top;\n",
       "    }\n",
       "\n",
       "    .dataframe thead th {\n",
       "        text-align: right;\n",
       "    }\n",
       "</style>\n",
       "<table border=\"1\" class=\"dataframe\">\n",
       "  <thead>\n",
       "    <tr style=\"text-align: right;\">\n",
       "      <th></th>\n",
       "      <th>base_club</th>\n",
       "    </tr>\n",
       "  </thead>\n",
       "  <tbody>\n",
       "    <tr>\n",
       "      <th>1.FK Pribram</th>\n",
       "      <td>2</td>\n",
       "    </tr>\n",
       "    <tr>\n",
       "      <th>1.FSV Mainz 05</th>\n",
       "      <td>3</td>\n",
       "    </tr>\n",
       "    <tr>\n",
       "      <th>AC Milan</th>\n",
       "      <td>2</td>\n",
       "    </tr>\n",
       "    <tr>\n",
       "      <th>AEK Athens</th>\n",
       "      <td>1</td>\n",
       "    </tr>\n",
       "    <tr>\n",
       "      <th>AS Roma</th>\n",
       "      <td>4</td>\n",
       "    </tr>\n",
       "    <tr>\n",
       "      <th>...</th>\n",
       "      <td>...</td>\n",
       "    </tr>\n",
       "    <tr>\n",
       "      <th>Without Club</th>\n",
       "      <td>16</td>\n",
       "    </tr>\n",
       "    <tr>\n",
       "      <th>Wolves</th>\n",
       "      <td>1</td>\n",
       "    </tr>\n",
       "    <tr>\n",
       "      <th>Wycombe</th>\n",
       "      <td>4</td>\n",
       "    </tr>\n",
       "    <tr>\n",
       "      <th>Würzb. Kickers</th>\n",
       "      <td>1</td>\n",
       "    </tr>\n",
       "    <tr>\n",
       "      <th>Östersund</th>\n",
       "      <td>1</td>\n",
       "    </tr>\n",
       "  </tbody>\n",
       "</table>\n",
       "<p>239 rows × 1 columns</p>\n",
       "</div>"
      ],
      "text/plain": [
       "                base_club\n",
       "1.FK Pribram            2\n",
       "1.FSV Mainz 05          3\n",
       "AC Milan                2\n",
       "AEK Athens              1\n",
       "AS Roma                 4\n",
       "...                   ...\n",
       "Without Club           16\n",
       "Wolves                  1\n",
       "Wycombe                 4\n",
       "Würzb. Kickers          1\n",
       "Östersund               1\n",
       "\n",
       "[239 rows x 1 columns]"
      ]
     },
     "execution_count": 23,
     "metadata": {},
     "output_type": "execute_result"
    }
   ],
   "source": [
    "df_bc=(DataFrame(pd.get_dummies(df[\"club_involved_name\"])))\n",
    "bc=DataFrame(np.sum(df_bc),columns=[\"base_club\"])\n",
    "bc"
   ]
  },
  {
   "cell_type": "code",
   "execution_count": 24,
   "metadata": {},
   "outputs": [],
   "source": [
    "f=[]\n",
    "for i in np.arange(len(df[\"fee\"])):\n",
    "    if df[\"fee\"][i]==\"£\" or df[\"fee\"][i]!=0:\n",
    "        f=np.append(f,df[\"fee\"][i])"
   ]
  },
  {
   "cell_type": "code",
   "execution_count": 25,
   "metadata": {},
   "outputs": [],
   "source": [
    "f2=[]\n",
    "for i in np.arange(len(f)):\n",
    "    f1=f[i][1:]\n",
    "    f11=f1[:-1]\n",
    "    if f[i][-1:]==\"m\":\n",
    "        f2=np.append(f2,float(f11))\n",
    "    else:\n",
    "        f2=np.append(f2,(float(f11)/1000))"
   ]
  },
  {
   "cell_type": "code",
   "execution_count": 26,
   "metadata": {},
   "outputs": [],
   "source": [
    "fz=len(df[\"fee\"])-len(f)"
   ]
  },
  {
   "cell_type": "code",
   "execution_count": 27,
   "metadata": {},
   "outputs": [
    {
     "data": {
      "text/plain": [
       "([<matplotlib.patches.Wedge at 0x1535fe57080>,\n",
       "  <matplotlib.patches.Wedge at 0x1535fe57ac8>],\n",
       " [Text(-1.4519198325616016, 1.316635408841146, 'on loan'),\n",
       "  Text(1.3778422315925174, -1.249460197381314, 'salary paid')],\n",
       " [Text(-0.8592994927405395, 0.7792332011508822, '76.6%'),\n",
       "  Text(0.7852219169290691, -0.7120579619484906, '23.4%')])"
      ]
     },
     "execution_count": 27,
     "metadata": {},
     "output_type": "execute_result"
    },
    {
     "data": {
      "image/png": "[encoded data removed]",
      "text/plain": [
       "<Figure size 432x288 with 1 Axes>"
      ]
     },
     "metadata": {},
     "output_type": "display_data"
    }
   ],
   "source": [
    "plt.pie([fz,len(f2)],labels=[\"on loan\",\"salary paid\"],radius=1.6,shadow=True,explode=[.2,.1],colors=\"rgba\",autopct='%1.1f%%')"
   ]
  },
  {
   "cell_type": "code",
   "execution_count": 28,
   "metadata": {},
   "outputs": [
    {
     "data": {
      "text/plain": [
       "Text(0, 0.5, 'frequency')"
      ]
     },
     "execution_count": 28,
     "metadata": {},
     "output_type": "execute_result"
    },
    {
     "data": {
      "image/png": "[encoded data removed]",
      "text/plain": [
       "<Figure size 432x288 with 1 Axes>"
      ]
     },
     "metadata": {
      "needs_background": "light"
     },
     "output_type": "display_data"
    }
   ],
   "source": [
    "sns.distplot(f2,bins=30,\n",
    "              kde_kws={\"color\":\"red\",\"label\":\"kde plot\"},\n",
    "              hist_kws={\"color\":\"blue\",\"label\":\"Hist\"})\n",
    "plt.title(\"Distribution of fees\",fontsize=20)\n",
    "plt.xlabel(\"fees\",fontsize=20)\n",
    "plt.ylabel(\"frequency\",fontsize=20)"
   ]
  },
  {
   "cell_type": "code",
   "execution_count": 29,
   "metadata": {},
   "outputs": [],
   "source": [
    "#the players who are in  are in maximum demand"
   ]
  },
  {
   "cell_type": "code",
   "execution_count": 32,
   "metadata": {},
   "outputs": [
    {
     "data": {
      "text/html": [
       "<div>\n",
       "<style scoped>\n",
       "    .dataframe tbody tr th:only-of-type {\n",
       "        vertical-align: middle;\n",
       "    }\n",
       "\n",
       "    .dataframe tbody tr th {\n",
       "        vertical-align: top;\n",
       "    }\n",
       "\n",
       "    .dataframe thead th {\n",
       "        text-align: right;\n",
       "    }\n",
       "</style>\n",
       "<table border=\"1\" class=\"dataframe\">\n",
       "  <thead>\n",
       "    <tr style=\"text-align: right;\">\n",
       "      <th></th>\n",
       "      <th>club_name</th>\n",
       "      <th>player_name</th>\n",
       "      <th>age</th>\n",
       "      <th>position</th>\n",
       "      <th>club_involved_name</th>\n",
       "      <th>fee</th>\n",
       "      <th>transfer_movement</th>\n",
       "      <th>fee_cleaned</th>\n",
       "      <th>league_name</th>\n",
       "      <th>year</th>\n",
       "      <th>season</th>\n",
       "    </tr>\n",
       "  </thead>\n",
       "  <tbody>\n",
       "    <tr>\n",
       "      <th>0</th>\n",
       "      <td>Manchester City</td>\n",
       "      <td>Rodri</td>\n",
       "      <td>23</td>\n",
       "      <td>Defensive Midfield</td>\n",
       "      <td>Atlético Madrid</td>\n",
       "      <td>£63.00m</td>\n",
       "      <td>in</td>\n",
       "      <td>63.0</td>\n",
       "      <td>Premier League</td>\n",
       "      <td>2019</td>\n",
       "      <td>2019/2020</td>\n",
       "    </tr>\n",
       "  </tbody>\n",
       "</table>\n",
       "</div>"
      ],
      "text/plain": [
       "         club_name player_name  age            position club_involved_name  \\\n",
       "0  Manchester City       Rodri   23  Defensive Midfield    Atlético Madrid   \n",
       "\n",
       "       fee transfer_movement  fee_cleaned     league_name  year     season  \n",
       "0  £63.00m                in         63.0  Premier League  2019  2019/2020  "
      ]
     },
     "execution_count": 32,
     "metadata": {},
     "output_type": "execute_result"
    }
   ],
   "source": [
    "df.head(1)"
   ]
  },
  {
   "cell_type": "code",
   "execution_count": 83,
   "metadata": {},
   "outputs": [],
   "source": [
    "df1=df[[\"club_name\",\"player_name\",\"age\",\"position\",\"fee\",\"transfer_movement\",\"fee_cleaned\"]]\n",
    "df_in=df1[df1[\"transfer_movement\"]==\"in\"]\n",
    "df_out=df1[df1[\"transfer_movement\"]==\"out\"]"
   ]
  },
  {
   "cell_type": "code",
   "execution_count": 84,
   "metadata": {},
   "outputs": [
    {
     "data": {
      "text/plain": [
       "([<matplotlib.patches.Wedge at 0x153624a9438>,\n",
       "  <matplotlib.patches.Wedge at 0x153624a9eb8>],\n",
       " [Text(0.034371238357313705, 1.7596643480998828, ''),\n",
       "  Text(-0.03437123835731392, -1.7596643480998828, '')],\n",
       " [Text(0.018747948194898383, 0.9598169171453905, '49.4%'),\n",
       "  Text(-0.018747948194898497, -0.9598169171453905, '50.6%')])"
      ]
     },
     "execution_count": 84,
     "metadata": {},
     "output_type": "execute_result"
    },
    {
     "data": {
      "image/png": "[encoded data removed]",
      "text/plain": [
       "<Figure size 432x288 with 1 Axes>"
      ]
     },
     "metadata": {},
     "output_type": "display_data"
    }
   ],
   "source": [
    "plt.pie([len(df_in[\"fee\"]),len(df_out[\"fee\"])],radius=1.6,shadow=True,autopct='%1.1f%%')"
   ]
  },
  {
   "cell_type": "code",
   "execution_count": 85,
   "metadata": {},
   "outputs": [],
   "source": [
    "am_in=np.mean(df_in[\"age\"])\n",
    "am_out=np.mean(df_out[\"age\"])"
   ]
  },
  {
   "cell_type": "code",
   "execution_count": 86,
   "metadata": {},
   "outputs": [
    {
     "data": {
      "text/plain": [
       "<matplotlib.legend.Legend at 0x153624db748>"
      ]
     },
     "execution_count": 86,
     "metadata": {},
     "output_type": "execute_result"
    },
    {
     "data": {
      "image/png": "[encoded data removed]",
      "text/plain": [
       "<Figure size 720x360 with 1 Axes>"
      ]
     },
     "metadata": {
      "needs_background": "light"
     },
     "output_type": "display_data"
    }
   ],
   "source": [
    "df_in[\"age\"].plot(kind=\"kde\",color=\"green\",figsize=(10,5),linewidth=3,linestyle=\"--\")\n",
    "df_out[\"age\"].plot(kind=\"kde\",color=\"red\",figsize=(10,5),linewidth=3,linestyle=\"--\")\n",
    "plt.axvline(x=am_in,linewidth=3,linestyle=\"-.\",color=\"green\")\n",
    "plt.axvline(x=am_out,linewidth=3,linestyle=\"-.\",color=\"red\")\n",
    "plt.title(\"Age of players\",fontsize=20)\n",
    "plt.xlabel(\"Age\",fontsize=20)\n",
    "plt.ylabel(\"Density\",fontsize=20)\n",
    "plt.legend([\"players_in\",\"players_out\"])"
   ]
  },
  {
   "cell_type": "code",
   "execution_count": 87,
   "metadata": {},
   "outputs": [
    {
     "data": {
      "text/plain": [
       "in     24.032374\n",
       "out    26.028070\n",
       "dtype: float64"
      ]
     },
     "execution_count": 87,
     "metadata": {},
     "output_type": "execute_result"
    }
   ],
   "source": [
    "Series([am_in,am_out],[\"in\",\"out\"])       #avg age of players in and out respectively"
   ]
  },
  {
   "cell_type": "code",
   "execution_count": 128,
   "metadata": {},
   "outputs": [],
   "source": [
    "dfp_in=(DataFrame(pd.get_dummies(df_in[\"position\"])))\n",
    "pos1=DataFrame(np.sum(dfp_in),columns=[\"position_in\"])\n",
    "dfp_out=(DataFrame(pd.get_dummies(df_out[\"position\"])))\n",
    "pos2=DataFrame(np.sum(dfp_out),columns=[\"position_out\"])\n",
    "pos1[\"position_out\"]=pos2[\"position_out\"]"
   ]
  },
  {
   "cell_type": "code",
   "execution_count": 129,
   "metadata": {},
   "outputs": [],
   "source": [
    "def avg(df_t,pos,qnt): \n",
    "     return(np.mean(((df_t[df_t[\"position\"]==pos])[qnt]).values))"
   ]
  },
  {
   "cell_type": "code",
   "execution_count": 130,
   "metadata": {},
   "outputs": [
    {
     "data": {
      "text/plain": [
       "23.583333333333332"
      ]
     },
     "execution_count": 130,
     "metadata": {},
     "output_type": "execute_result"
    }
   ],
   "source": [
    "avg(df_in,\"Attacking Midfield\",\"age\")"
   ]
  },
  {
   "cell_type": "code",
   "execution_count": 143,
   "metadata": {},
   "outputs": [
    {
     "name": "stderr",
     "output_type": "stream",
     "text": [
      "c:\\users\\dell\\appdata\\local\\programs\\python\\python37\\lib\\site-packages\\numpy\\core\\fromnumeric.py:3118: RuntimeWarning: Mean of empty slice.\n",
      "  out=out, **kwargs)\n",
      "c:\\users\\dell\\appdata\\local\\programs\\python\\python37\\lib\\site-packages\\numpy\\core\\_methods.py:85: RuntimeWarning: invalid value encountered in double_scalars\n",
      "  ret = ret.dtype.type(ret / rcount)\n",
      "c:\\users\\dell\\appdata\\local\\programs\\python\\python37\\lib\\site-packages\\numpy\\core\\fromnumeric.py:3367: RuntimeWarning: Degrees of freedom <= 0 for slice\n",
      "  **kwargs)\n",
      "c:\\users\\dell\\appdata\\local\\programs\\python\\python37\\lib\\site-packages\\numpy\\core\\_methods.py:110: RuntimeWarning: invalid value encountered in true_divide\n",
      "  arrmean, rcount, out=arrmean, casting='unsafe', subok=False)\n",
      "c:\\users\\dell\\appdata\\local\\programs\\python\\python37\\lib\\site-packages\\numpy\\core\\_methods.py:132: RuntimeWarning: invalid value encountered in double_scalars\n",
      "  ret = ret.dtype.type(ret / rcount)\n"
     ]
    }
   ],
   "source": [
    "a11=[]\n",
    "a12=[]\n",
    "a13=[]\n",
    "a14=[]\n",
    "f11=[]\n",
    "f12=[]\n",
    "f13=[]\n",
    "f14=[]\n",
    "for i in np.unique(df_in[\"position\"]):\n",
    "    a11=np.append(a11,avg(df_in,i,\"age\"))\n",
    "    a12=np.append(a12,avg(df_out,i,\"age\"))\n",
    "    a13=np.append(a13,sd(df_in,i,\"age\"))\n",
    "    a14=np.append(a14,sd(df_out,i,\"age\"))\n",
    "    f11=np.append(f11,avg(df_in,i,\"fee_cleaned\"))\n",
    "    f12=np.append(f12,avg(df_out,i,\"fee_cleaned\"))\n",
    "    f13=np.append(f13,sd(df_in,i,\"fee_cleaned\"))\n",
    "    f14=np.append(f14,sd(df_out,i,\"fee_cleaned\"))"
   ]
  },
  {
   "cell_type": "code",
   "execution_count": 144,
   "metadata": {},
   "outputs": [],
   "source": [
    "pos1[\"avg_age_in\"]=a11\n",
    "pos1[\"avg_age_out\"]=a12\n",
    "pos1[\"avg_fee_in\"]=f11\n",
    "pos1[\"avg_fee_out\"]=f12\n",
    "pos1[\"sd_age_in\"]=a13\n",
    "pos1[\"sd_age_out\"]=a14\n",
    "pos1[\"sd_fee_in\"]=f13\n",
    "pos1[\"sd_fee_out\"]=f14"
   ]
  },
  {
   "cell_type": "code",
   "execution_count": 145,
   "metadata": {},
   "outputs": [],
   "source": [
    "p_in=pos1[\"position_in\"]/(pos1[\"position_in\"]+pos1[\"position_out\"])"
   ]
  },
  {
   "cell_type": "code",
   "execution_count": 146,
   "metadata": {},
   "outputs": [],
   "source": [
    "pos1[\"prob_in\"]=p_in"
   ]
  },
  {
   "cell_type": "code",
   "execution_count": 147,
   "metadata": {},
   "outputs": [
    {
     "data": {
      "text/html": [
       "<div>\n",
       "<style scoped>\n",
       "    .dataframe tbody tr th:only-of-type {\n",
       "        vertical-align: middle;\n",
       "    }\n",
       "\n",
       "    .dataframe tbody tr th {\n",
       "        vertical-align: top;\n",
       "    }\n",
       "\n",
       "    .dataframe thead th {\n",
       "        text-align: right;\n",
       "    }\n",
       "</style>\n",
       "<table border=\"1\" class=\"dataframe\">\n",
       "  <thead>\n",
       "    <tr style=\"text-align: right;\">\n",
       "      <th></th>\n",
       "      <th>position_in</th>\n",
       "      <th>position_out</th>\n",
       "      <th>avg_age_in</th>\n",
       "      <th>avg_age_out</th>\n",
       "      <th>avg_fee_in</th>\n",
       "      <th>avg_fee_out</th>\n",
       "      <th>prob_in</th>\n",
       "      <th>sd_age_in</th>\n",
       "      <th>sd_age_out</th>\n",
       "      <th>sd_fee_in</th>\n",
       "      <th>sd_fee_out</th>\n",
       "    </tr>\n",
       "  </thead>\n",
       "  <tbody>\n",
       "    <tr>\n",
       "      <th>Attacking Midfield</th>\n",
       "      <td>12</td>\n",
       "      <td>9.0</td>\n",
       "      <td>23.583333</td>\n",
       "      <td>24.888889</td>\n",
       "      <td>2.992265</td>\n",
       "      <td>3.758393</td>\n",
       "      <td>0.571429</td>\n",
       "      <td>4.132359</td>\n",
       "      <td>4.886363</td>\n",
       "      <td>6.915182</td>\n",
       "      <td>4.117587</td>\n",
       "    </tr>\n",
       "    <tr>\n",
       "      <th>Central Midfield</th>\n",
       "      <td>44</td>\n",
       "      <td>43.0</td>\n",
       "      <td>23.795455</td>\n",
       "      <td>25.488372</td>\n",
       "      <td>5.599663</td>\n",
       "      <td>2.346217</td>\n",
       "      <td>0.505747</td>\n",
       "      <td>3.526391</td>\n",
       "      <td>3.943627</td>\n",
       "      <td>12.162746</td>\n",
       "      <td>3.176480</td>\n",
       "    </tr>\n",
       "    <tr>\n",
       "      <th>Centre-Back</th>\n",
       "      <td>40</td>\n",
       "      <td>41.0</td>\n",
       "      <td>23.750000</td>\n",
       "      <td>25.902439</td>\n",
       "      <td>5.135388</td>\n",
       "      <td>4.402957</td>\n",
       "      <td>0.493827</td>\n",
       "      <td>4.340219</td>\n",
       "      <td>4.863026</td>\n",
       "      <td>13.214553</td>\n",
       "      <td>12.285092</td>\n",
       "    </tr>\n",
       "    <tr>\n",
       "      <th>Centre-Forward</th>\n",
       "      <td>50</td>\n",
       "      <td>56.0</td>\n",
       "      <td>23.740000</td>\n",
       "      <td>25.678571</td>\n",
       "      <td>5.901518</td>\n",
       "      <td>3.678884</td>\n",
       "      <td>0.471698</td>\n",
       "      <td>4.009040</td>\n",
       "      <td>4.255698</td>\n",
       "      <td>10.276137</td>\n",
       "      <td>8.577519</td>\n",
       "    </tr>\n",
       "    <tr>\n",
       "      <th>Defensive Midfield</th>\n",
       "      <td>13</td>\n",
       "      <td>12.0</td>\n",
       "      <td>24.769231</td>\n",
       "      <td>27.833333</td>\n",
       "      <td>8.685783</td>\n",
       "      <td>3.666295</td>\n",
       "      <td>0.520000</td>\n",
       "      <td>2.390811</td>\n",
       "      <td>3.387067</td>\n",
       "      <td>17.049010</td>\n",
       "      <td>7.277894</td>\n",
       "    </tr>\n",
       "    <tr>\n",
       "      <th>Goalkeeper</th>\n",
       "      <td>29</td>\n",
       "      <td>30.0</td>\n",
       "      <td>26.551724</td>\n",
       "      <td>28.333333</td>\n",
       "      <td>1.777802</td>\n",
       "      <td>1.323197</td>\n",
       "      <td>0.491525</td>\n",
       "      <td>5.150067</td>\n",
       "      <td>6.122817</td>\n",
       "      <td>2.462931</td>\n",
       "      <td>2.305808</td>\n",
       "    </tr>\n",
       "    <tr>\n",
       "      <th>Left Midfield</th>\n",
       "      <td>4</td>\n",
       "      <td>5.0</td>\n",
       "      <td>21.750000</td>\n",
       "      <td>22.800000</td>\n",
       "      <td>6.952500</td>\n",
       "      <td>0.000000</td>\n",
       "      <td>0.444444</td>\n",
       "      <td>1.920286</td>\n",
       "      <td>1.600000</td>\n",
       "      <td>10.117572</td>\n",
       "      <td>0.000000</td>\n",
       "    </tr>\n",
       "    <tr>\n",
       "      <th>Left Winger</th>\n",
       "      <td>24</td>\n",
       "      <td>23.0</td>\n",
       "      <td>22.708333</td>\n",
       "      <td>24.913043</td>\n",
       "      <td>5.122500</td>\n",
       "      <td>7.200885</td>\n",
       "      <td>0.510638</td>\n",
       "      <td>2.637536</td>\n",
       "      <td>4.031539</td>\n",
       "      <td>7.647569</td>\n",
       "      <td>18.837584</td>\n",
       "    </tr>\n",
       "    <tr>\n",
       "      <th>Left-Back</th>\n",
       "      <td>14</td>\n",
       "      <td>17.0</td>\n",
       "      <td>24.928571</td>\n",
       "      <td>26.352941</td>\n",
       "      <td>4.590000</td>\n",
       "      <td>2.935084</td>\n",
       "      <td>0.451613</td>\n",
       "      <td>3.261557</td>\n",
       "      <td>3.661263</td>\n",
       "      <td>7.492814</td>\n",
       "      <td>3.495421</td>\n",
       "    </tr>\n",
       "    <tr>\n",
       "      <th>Midfielder</th>\n",
       "      <td>1</td>\n",
       "      <td>NaN</td>\n",
       "      <td>18.000000</td>\n",
       "      <td>NaN</td>\n",
       "      <td>4.465180</td>\n",
       "      <td>NaN</td>\n",
       "      <td>NaN</td>\n",
       "      <td>0.000000</td>\n",
       "      <td>NaN</td>\n",
       "      <td>0.000000</td>\n",
       "      <td>NaN</td>\n",
       "    </tr>\n",
       "    <tr>\n",
       "      <th>Right Midfield</th>\n",
       "      <td>1</td>\n",
       "      <td>2.0</td>\n",
       "      <td>34.000000</td>\n",
       "      <td>30.500000</td>\n",
       "      <td>0.000000</td>\n",
       "      <td>0.000000</td>\n",
       "      <td>0.333333</td>\n",
       "      <td>0.000000</td>\n",
       "      <td>2.500000</td>\n",
       "      <td>0.000000</td>\n",
       "      <td>0.000000</td>\n",
       "    </tr>\n",
       "    <tr>\n",
       "      <th>Right Winger</th>\n",
       "      <td>24</td>\n",
       "      <td>21.0</td>\n",
       "      <td>23.083333</td>\n",
       "      <td>24.142857</td>\n",
       "      <td>7.346250</td>\n",
       "      <td>3.102169</td>\n",
       "      <td>0.533333</td>\n",
       "      <td>2.691293</td>\n",
       "      <td>2.866651</td>\n",
       "      <td>15.998704</td>\n",
       "      <td>7.212035</td>\n",
       "    </tr>\n",
       "    <tr>\n",
       "      <th>Right-Back</th>\n",
       "      <td>21</td>\n",
       "      <td>23.0</td>\n",
       "      <td>24.333333</td>\n",
       "      <td>27.086957</td>\n",
       "      <td>6.722009</td>\n",
       "      <td>6.070561</td>\n",
       "      <td>0.477273</td>\n",
       "      <td>3.385309</td>\n",
       "      <td>5.072629</td>\n",
       "      <td>15.647707</td>\n",
       "      <td>11.965903</td>\n",
       "    </tr>\n",
       "    <tr>\n",
       "      <th>Second Striker</th>\n",
       "      <td>1</td>\n",
       "      <td>3.0</td>\n",
       "      <td>24.000000</td>\n",
       "      <td>29.333333</td>\n",
       "      <td>0.000000</td>\n",
       "      <td>1.488393</td>\n",
       "      <td>0.250000</td>\n",
       "      <td>0.000000</td>\n",
       "      <td>3.771236</td>\n",
       "      <td>0.000000</td>\n",
       "      <td>2.104906</td>\n",
       "    </tr>\n",
       "  </tbody>\n",
       "</table>\n",
       "</div>"
      ],
      "text/plain": [
       "                    position_in  position_out  avg_age_in  avg_age_out  \\\n",
       "Attacking Midfield           12           9.0   23.583333    24.888889   \n",
       "Central Midfield             44          43.0   23.795455    25.488372   \n",
       "Centre-Back                  40          41.0   23.750000    25.902439   \n",
       "Centre-Forward               50          56.0   23.740000    25.678571   \n",
       "Defensive Midfield           13          12.0   24.769231    27.833333   \n",
       "Goalkeeper                   29          30.0   26.551724    28.333333   \n",
       "Left Midfield                 4           5.0   21.750000    22.800000   \n",
       "Left Winger                  24          23.0   22.708333    24.913043   \n",
       "Left-Back                    14          17.0   24.928571    26.352941   \n",
       "Midfielder                    1           NaN   18.000000          NaN   \n",
       "Right Midfield                1           2.0   34.000000    30.500000   \n",
       "Right Winger                 24          21.0   23.083333    24.142857   \n",
       "Right-Back                   21          23.0   24.333333    27.086957   \n",
       "Second Striker                1           3.0   24.000000    29.333333   \n",
       "\n",
       "                    avg_fee_in  avg_fee_out   prob_in  sd_age_in  sd_age_out  \\\n",
       "Attacking Midfield    2.992265     3.758393  0.571429   4.132359    4.886363   \n",
       "Central Midfield      5.599663     2.346217  0.505747   3.526391    3.943627   \n",
       "Centre-Back           5.135388     4.402957  0.493827   4.340219    4.863026   \n",
       "Centre-Forward        5.901518     3.678884  0.471698   4.009040    4.255698   \n",
       "Defensive Midfield    8.685783     3.666295  0.520000   2.390811    3.387067   \n",
       "Goalkeeper            1.777802     1.323197  0.491525   5.150067    6.122817   \n",
       "Left Midfield         6.952500     0.000000  0.444444   1.920286    1.600000   \n",
       "Left Winger           5.122500     7.200885  0.510638   2.637536    4.031539   \n",
       "Left-Back             4.590000     2.935084  0.451613   3.261557    3.661263   \n",
       "Midfielder            4.465180          NaN       NaN   0.000000         NaN   \n",
       "Right Midfield        0.000000     0.000000  0.333333   0.000000    2.500000   \n",
       "Right Winger          7.346250     3.102169  0.533333   2.691293    2.866651   \n",
       "Right-Back            6.722009     6.070561  0.477273   3.385309    5.072629   \n",
       "Second Striker        0.000000     1.488393  0.250000   0.000000    3.771236   \n",
       "\n",
       "                    sd_fee_in  sd_fee_out  \n",
       "Attacking Midfield   6.915182    4.117587  \n",
       "Central Midfield    12.162746    3.176480  \n",
       "Centre-Back         13.214553   12.285092  \n",
       "Centre-Forward      10.276137    8.577519  \n",
       "Defensive Midfield  17.049010    7.277894  \n",
       "Goalkeeper           2.462931    2.305808  \n",
       "Left Midfield       10.117572    0.000000  \n",
       "Left Winger          7.647569   18.837584  \n",
       "Left-Back            7.492814    3.495421  \n",
       "Midfielder           0.000000         NaN  \n",
       "Right Midfield       0.000000    0.000000  \n",
       "Right Winger        15.998704    7.212035  \n",
       "Right-Back          15.647707   11.965903  \n",
       "Second Striker       0.000000    2.104906  "
      ]
     },
     "execution_count": 147,
     "metadata": {},
     "output_type": "execute_result"
    }
   ],
   "source": [
    "pos1"
   ]
  },
  {
   "cell_type": "code",
   "execution_count": 180,
   "metadata": {},
   "outputs": [
    {
     "data": {
      "text/plain": [
       "0.43073863636363635"
      ]
     },
     "execution_count": 180,
     "metadata": {},
     "output_type": "execute_result"
    }
   ],
   "source": [
    "s=selction(\"hk\",\"Right-Back\",24,2)\n",
    "s[2]"
   ]
  },
  {
   "cell_type": "code",
   "execution_count": 183,
   "metadata": {},
   "outputs": [],
   "source": [
    "p_sel=[]\n",
    "for i in np.arange(len(df[\"fee\"])):\n",
    "    s=selction(df[\"player_name\"][i],df[\"position\"][i],df[\"age\"][i],df[\"fee_cleaned\"][i])\n",
    "    p_sel=np.append(p_sel,s[2])"
   ]
  },
  {
   "cell_type": "code",
   "execution_count": 185,
   "metadata": {},
   "outputs": [],
   "source": [
    "df[\"p_sel\"]=p_sel"
   ]
  },
  {
   "cell_type": "code",
   "execution_count": 196,
   "metadata": {
    "scrolled": true
   },
   "outputs": [
    {
     "data": {
      "text/html": [
       "<div>\n",
       "<style scoped>\n",
       "    .dataframe tbody tr th:only-of-type {\n",
       "        vertical-align: middle;\n",
       "    }\n",
       "\n",
       "    .dataframe tbody tr th {\n",
       "        vertical-align: top;\n",
       "    }\n",
       "\n",
       "    .dataframe thead th {\n",
       "        text-align: right;\n",
       "    }\n",
       "</style>\n",
       "<table border=\"1\" class=\"dataframe\">\n",
       "  <thead>\n",
       "    <tr style=\"text-align: right;\">\n",
       "      <th></th>\n",
       "      <th>club_name</th>\n",
       "      <th>player_name</th>\n",
       "      <th>age</th>\n",
       "      <th>position</th>\n",
       "      <th>club_involved_name</th>\n",
       "      <th>fee</th>\n",
       "      <th>transfer_movement</th>\n",
       "      <th>fee_cleaned</th>\n",
       "      <th>league_name</th>\n",
       "      <th>year</th>\n",
       "      <th>season</th>\n",
       "      <th>p_sel</th>\n",
       "    </tr>\n",
       "  </thead>\n",
       "  <tbody>\n",
       "    <tr>\n",
       "      <th>483</th>\n",
       "      <td>Norwich City</td>\n",
       "      <td>Steven Naismith</td>\n",
       "      <td>32</td>\n",
       "      <td>Second Striker</td>\n",
       "      <td>Heart of Midl.</td>\n",
       "      <td>0</td>\n",
       "      <td>out</td>\n",
       "      <td>4.46518</td>\n",
       "      <td>Premier League</td>\n",
       "      <td>2019</td>\n",
       "      <td>2019/2020</td>\n",
       "      <td>0.000625</td>\n",
       "    </tr>\n",
       "    <tr>\n",
       "      <th>557</th>\n",
       "      <td>Aston Villa</td>\n",
       "      <td>Ross McCormack</td>\n",
       "      <td>32</td>\n",
       "      <td>Second Striker</td>\n",
       "      <td>Without Club</td>\n",
       "      <td>0</td>\n",
       "      <td>out</td>\n",
       "      <td>0.00000</td>\n",
       "      <td>Premier League</td>\n",
       "      <td>2019</td>\n",
       "      <td>2019/2020</td>\n",
       "      <td>0.011875</td>\n",
       "    </tr>\n",
       "    <tr>\n",
       "      <th>492</th>\n",
       "      <td>Norwich City</td>\n",
       "      <td>Ben Marshall</td>\n",
       "      <td>28</td>\n",
       "      <td>Right Midfield</td>\n",
       "      <td>Without Club</td>\n",
       "      <td>0</td>\n",
       "      <td>out</td>\n",
       "      <td>0.00000</td>\n",
       "      <td>Premier League</td>\n",
       "      <td>2019</td>\n",
       "      <td>2019/2020</td>\n",
       "      <td>0.015833</td>\n",
       "    </tr>\n",
       "    <tr>\n",
       "      <th>519</th>\n",
       "      <td>Sheffield United</td>\n",
       "      <td>Mark Duffy</td>\n",
       "      <td>33</td>\n",
       "      <td>Right Midfield</td>\n",
       "      <td>Stoke City</td>\n",
       "      <td>0</td>\n",
       "      <td>out</td>\n",
       "      <td>0.00000</td>\n",
       "      <td>Premier League</td>\n",
       "      <td>2019</td>\n",
       "      <td>2019/2020</td>\n",
       "      <td>0.015833</td>\n",
       "    </tr>\n",
       "    <tr>\n",
       "      <th>365</th>\n",
       "      <td>AFC Bournemouth</td>\n",
       "      <td>Jermain Defoe</td>\n",
       "      <td>37</td>\n",
       "      <td>Centre-Forward</td>\n",
       "      <td>Rangers</td>\n",
       "      <td>0</td>\n",
       "      <td>in</td>\n",
       "      <td>0.00000</td>\n",
       "      <td>Premier League</td>\n",
       "      <td>2019</td>\n",
       "      <td>2019/2020</td>\n",
       "      <td>0.022406</td>\n",
       "    </tr>\n",
       "    <tr>\n",
       "      <th>...</th>\n",
       "      <td>...</td>\n",
       "      <td>...</td>\n",
       "      <td>...</td>\n",
       "      <td>...</td>\n",
       "      <td>...</td>\n",
       "      <td>...</td>\n",
       "      <td>...</td>\n",
       "      <td>...</td>\n",
       "      <td>...</td>\n",
       "      <td>...</td>\n",
       "      <td>...</td>\n",
       "      <td>...</td>\n",
       "    </tr>\n",
       "    <tr>\n",
       "      <th>34</th>\n",
       "      <td>Manchester City</td>\n",
       "      <td>Ryotaro Meshino</td>\n",
       "      <td>21</td>\n",
       "      <td>Attacking Midfield</td>\n",
       "      <td>Heart of Midl.</td>\n",
       "      <td>0</td>\n",
       "      <td>out</td>\n",
       "      <td>0.00000</td>\n",
       "      <td>Premier League</td>\n",
       "      <td>2019</td>\n",
       "      <td>2019/2020</td>\n",
       "      <td>0.515714</td>\n",
       "    </tr>\n",
       "    <tr>\n",
       "      <th>25</th>\n",
       "      <td>Manchester City</td>\n",
       "      <td>Manu García</td>\n",
       "      <td>21</td>\n",
       "      <td>Attacking Midfield</td>\n",
       "      <td>Sporting Gijón</td>\n",
       "      <td>£3.60m</td>\n",
       "      <td>out</td>\n",
       "      <td>3.60000</td>\n",
       "      <td>Premier League</td>\n",
       "      <td>2019</td>\n",
       "      <td>2019/2020</td>\n",
       "      <td>0.515714</td>\n",
       "    </tr>\n",
       "    <tr>\n",
       "      <th>232</th>\n",
       "      <td>Everton FC</td>\n",
       "      <td>Kieran Dowell</td>\n",
       "      <td>21</td>\n",
       "      <td>Attacking Midfield</td>\n",
       "      <td>Derby</td>\n",
       "      <td>0</td>\n",
       "      <td>out</td>\n",
       "      <td>0.00000</td>\n",
       "      <td>Premier League</td>\n",
       "      <td>2019</td>\n",
       "      <td>2019/2020</td>\n",
       "      <td>0.515714</td>\n",
       "    </tr>\n",
       "    <tr>\n",
       "      <th>326</th>\n",
       "      <td>Crystal Palace</td>\n",
       "      <td>Jason Puncheon</td>\n",
       "      <td>33</td>\n",
       "      <td>Attacking Midfield</td>\n",
       "      <td>Pafos FC</td>\n",
       "      <td>0</td>\n",
       "      <td>out</td>\n",
       "      <td>4.46518</td>\n",
       "      <td>Premier League</td>\n",
       "      <td>2019</td>\n",
       "      <td>2019/2020</td>\n",
       "      <td>0.515714</td>\n",
       "    </tr>\n",
       "    <tr>\n",
       "      <th>245</th>\n",
       "      <td>Leicester City</td>\n",
       "      <td>Callum Hulme</td>\n",
       "      <td>18</td>\n",
       "      <td>Midfielder</td>\n",
       "      <td>Bury</td>\n",
       "      <td>0</td>\n",
       "      <td>in</td>\n",
       "      <td>4.46518</td>\n",
       "      <td>Premier League</td>\n",
       "      <td>2019</td>\n",
       "      <td>2019/2020</td>\n",
       "      <td>NaN</td>\n",
       "    </tr>\n",
       "  </tbody>\n",
       "</table>\n",
       "<p>563 rows × 12 columns</p>\n",
       "</div>"
      ],
      "text/plain": [
       "            club_name      player_name  age            position  \\\n",
       "483      Norwich City  Steven Naismith   32      Second Striker   \n",
       "557       Aston Villa   Ross McCormack   32      Second Striker   \n",
       "492      Norwich City     Ben Marshall   28      Right Midfield   \n",
       "519  Sheffield United       Mark Duffy   33      Right Midfield   \n",
       "365   AFC Bournemouth    Jermain Defoe   37      Centre-Forward   \n",
       "..                ...              ...  ...                 ...   \n",
       "34    Manchester City  Ryotaro Meshino   21  Attacking Midfield   \n",
       "25    Manchester City      Manu García   21  Attacking Midfield   \n",
       "232        Everton FC    Kieran Dowell   21  Attacking Midfield   \n",
       "326    Crystal Palace   Jason Puncheon   33  Attacking Midfield   \n",
       "245    Leicester City     Callum Hulme   18          Midfielder   \n",
       "\n",
       "    club_involved_name     fee transfer_movement  fee_cleaned     league_name  \\\n",
       "483     Heart of Midl.       0               out      4.46518  Premier League   \n",
       "557       Without Club       0               out      0.00000  Premier League   \n",
       "492       Without Club       0               out      0.00000  Premier League   \n",
       "519         Stoke City       0               out      0.00000  Premier League   \n",
       "365            Rangers       0                in      0.00000  Premier League   \n",
       "..                 ...     ...               ...          ...             ...   \n",
       "34      Heart of Midl.       0               out      0.00000  Premier League   \n",
       "25      Sporting Gijón  £3.60m               out      3.60000  Premier League   \n",
       "232              Derby       0               out      0.00000  Premier League   \n",
       "326           Pafos FC       0               out      4.46518  Premier League   \n",
       "245               Bury       0                in      4.46518  Premier League   \n",
       "\n",
       "     year     season     p_sel  \n",
       "483  2019  2019/2020  0.000625  \n",
       "557  2019  2019/2020  0.011875  \n",
       "492  2019  2019/2020  0.015833  \n",
       "519  2019  2019/2020  0.015833  \n",
       "365  2019  2019/2020  0.022406  \n",
       "..    ...        ...       ...  \n",
       "34   2019  2019/2020  0.515714  \n",
       "25   2019  2019/2020  0.515714  \n",
       "232  2019  2019/2020  0.515714  \n",
       "326  2019  2019/2020  0.515714  \n",
       "245  2019  2019/2020       NaN  \n",
       "\n",
       "[563 rows x 12 columns]"
      ]
     },
     "execution_count": 196,
     "metadata": {},
     "output_type": "execute_result"
    }
   ],
   "source": [
    "df.sort_values(\"p_sel\",ascending=True)"
   ]
  },
  {
   "cell_type": "code",
   "execution_count": 174,
   "metadata": {},
   "outputs": [],
   "source": [
    "#funcion_box\n",
    "def avg(df_t,pos,qnt): \n",
    "     return(np.mean(((df_t[df_t[\"position\"]==pos])[qnt]).values)) \n",
    "    \n",
    "    \n",
    "def sd(df_t,pos,qnt): \n",
    "     return(np.sqrt(np.var(((df_t[df_t[\"position\"]==pos])[qnt]).values)))\n",
    "    \n",
    "def selction(name,pos,age,fee):\n",
    "    p1=pos1[\"prob_in\"][pos]\n",
    "    a1=pos1.T[pos][\"avg_age_in\"]\n",
    "    sd1=pos1.T[pos][\"sd_age_in\"]\n",
    "    age_ul=a1+3*sd1\n",
    "    age_ll=a1-3*sd1\n",
    "    if age>=age_ll and age<=age_ul:\n",
    "        p2=.95\n",
    "    else:\n",
    "        p2=.05\n",
    "    f1=pos1.T[pos][\"avg_fee_in\"]\n",
    "    sd2=pos1.T[pos][\"sd_fee_in\"]\n",
    "    fee_ul=f1+3*sd2\n",
    "    fee_ll=f1-3*sd2\n",
    "    if fee>=fee_ll and fee<=fee_ul:\n",
    "        p3=.95\n",
    "    else:\n",
    "        p3=.05\n",
    "    p=p1*p2*p3\n",
    "    return(name,\"the probabilty of your selection is \", p)"
   ]
  },
  {
   "cell_type": "code",
   "execution_count": 165,
   "metadata": {},
   "outputs": [
    {
     "name": "stdout",
     "output_type": "stream",
     "text": [
      "hk the probabilty of your selection is  0.43073863636363635\n"
     ]
    }
   ],
   "source": [
    "selction(\"hk\",\"Right-Back\",24,7)"
   ]
  },
  {
   "cell_type": "code",
   "execution_count": null,
   "metadata": {},
   "outputs": [],
   "source": []
  }
 ],
 "metadata": {
  "kernelspec": {
   "display_name": "Python 3",
   "language": "python",
   "name": "python3"
  },
  "language_info": {
   "codemirror_mode": {
    "name": "ipython",
    "version": 3
   },
   "file_extension": ".py",
   "mimetype": "text/x-python",
   "name": "python",
   "nbconvert_exporter": "python",
   "pygments_lexer": "ipython3",
   "version": "3.7.1"
  }
 },
 "nbformat": 4,
 "nbformat_minor": 2
}
